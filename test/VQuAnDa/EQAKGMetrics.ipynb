{
 "cells": [
  {
   "cell_type": "markdown",
   "metadata": {},
   "source": [
    "#Instalacion paquetes (para JupyterHub)"
   ]
  },
  {
   "cell_type": "code",
   "execution_count": null,
   "metadata": {},
   "outputs": [],
   "source": [
    "!apt install -qq enchant\n",
    "!pip install pyenchant\n",
    "!pip install sacrebleu"
   ]
  },
  {
   "cell_type": "markdown",
   "metadata": {},
   "source": [
    "#Imports"
   ]
  },
  {
   "cell_type": "code",
   "execution_count": null,
   "metadata": {},
   "outputs": [],
   "source": [
    "import requests\n",
    "import json\n",
    "import enchant\n",
    "import csv\n",
    "import re\n",
    "import time\n",
    "import itertools\n",
    "from sacrebleu import sentence_bleu\n",
    "import multiprocessing as mp\n",
    "import os\n",
    "import pandas as pd"
   ]
  },
  {
   "cell_type": "markdown",
   "metadata": {},
   "source": [
    "#Funciones auxiliares"
   ]
  },
  {
   "cell_type": "code",
   "execution_count": null,
   "metadata": {},
   "outputs": [],
   "source": [
    "def jsonToDict(route) -> dict:\n",
    "    '''\n",
    "    Funcion auxiliar que dada la ruta de un json, lo abre y lo convierte a diccionario\n",
    "    '''\n",
    "    with open(route, encoding=\"utf-8\") as f:\n",
    "        return json.load(f)\n",
    "\n",
    "def queryJSON(queryURL, json):\n",
    "    '''\n",
    "    Funcion auxiliar que dado un JSON con una pregunta, realiza una consulta (con esta pregunta) a una URL\n",
    "    '''\n",
    "    question = json['question']\n",
    "    files = {\n",
    "        'question': (None, question),\n",
    "    }\n",
    "    '''\n",
    "    En caso de que quisiesemos la respuesta verbalizada o larga, hacer la request con params = payload:\n",
    "    payload = {\n",
    "        ('text', 'true')\n",
    "    }\n",
    "    '''\n",
    "    response = requests.get(queryURL, files = files)\n",
    "    #Obtenemos la respuesta como JSonObject y la devolvemos\n",
    "    return response.json()\n",
    "\n",
    "def exactMatchScore(string1,string2):\n",
    "    '''\n",
    "    Funcion auxiliar que incorpora la medida EM (exact match)\n",
    "    '''\n",
    "    matches = 0\n",
    "    total = 0\n",
    "    for (x,y) in itertools.zip_longest(string1,string2):\n",
    "        if(x == y):\n",
    "            matches+=1\n",
    "        total+=1\n",
    "    return matches/total\n",
    "\n",
    "def writeResults(csvRoute, rows, counter, question, modelAnswerLong, obtainedAnswer, queryTime, textLen):  \n",
    "    '''\n",
    "    Funcion auxiliar que extrae la respuesta que se espera, hace la distancia de levenshtein y añade a la lista de filas:\n",
    "    -Pregunta\n",
    "    -Respuesta modelo y nuestra respuesta\n",
    "    -Distancia de levenshtein entre ambas respuestas\n",
    "    -Tiempo que ha tardado en ejecutarse la consulta\n",
    "    -Longitud del texto del que se ha obtenido nuestra respuesta\n",
    "    -Si la pregunta dada tiene respuesta modelo o no\n",
    "    '''    \n",
    "    #La respuesta esperada se obtiene con una expresion regular (sacar texto entre corchetes)\n",
    "    modelAnswerLongGroups = re.search(r\"\\[([^\\)]+)\\]\", modelAnswerLong)\n",
    "    if(modelAnswerLongGroups is not None):\n",
    "        modelAnswer = modelAnswerLongGroups.group(1)\n",
    "        isAnswered = \"YES\"\n",
    "        if modelAnswer == \"answer\":\n",
    "            isAnswered = \"NO\" \n",
    "        distance = \"None\"\n",
    "        if obtainedAnswer is not None:\n",
    "            distance = enchant.utils.levenshtein(modelAnswer,obtainedAnswer)\n",
    "            reference = modelAnswer.split()\n",
    "            candidate = obtainedAnswer.split()\n",
    "\n",
    "            rows.append( [question, modelAnswer, obtainedAnswer, distance, sentence_bleu(obtainedAnswer,[modelAnswer]).score, exactMatchScore(reference,candidate), queryTime, textLen, isAnswered] )\n",
    "            counter.value += 1\n",
    "            #print(\"Contador: \", counter.value)\n",
    "\n",
    "            #Escribimos cuando el valor del contador llegue a 24\n",
    "            if(counter.value != 0 and counter.value % 24 == 0):\n",
    "                #print(\"Escribiendo. Contador: \", counter.value)\n",
    "                with open(csvRoute, 'a', newline='', encoding=\"utf-8\") as f:\n",
    "                    (pd.DataFrame.from_records(rows, columns=header)).to_csv(f, header=False, index=False, sep=';', quoting=csv.QUOTE_ALL)\n",
    "                    rows[:] = []\n",
    "                    f.close()\n",
    "\n",
    "\n",
    "def evaluateQuestion(csvRoute, i, rows, counter, queryURL):\n",
    "    '''\n",
    "    Funcion auxiliar para paralelizar la ejecucion de consultas y escritura en csv de resultados. Realiza la consulta (midiendo el tiempo que tarda) y llama a writeResults\n",
    "    '''\n",
    "    #print(\"Process id: \", os.getpid())\n",
    "    #print(\"Question: \", i['question']) \n",
    "    #Para medir el tiempo que se tarda en ejecutar la consulta\n",
    "    queryStartTime = time.time()\n",
    "    jsonResponse = queryJSON(queryURL,i)\n",
    "    queryTime = round((time.time() - queryStartTime),2)\n",
    "\n",
    "    #Pasamos las respuestas a minuscula y llamamos a extractAndCompare.\n",
    "    writeResults(csvRoute, rows, counter, i['question'], i['verbalized_answer'].lower(),jsonResponse['answer'].lower(),queryTime,jsonResponse['textLen'])"
   ]
  },
  {
   "cell_type": "markdown",
   "metadata": {},
   "source": [
    "#Funcion principal"
   ]
  },
  {
   "cell_type": "code",
   "execution_count": null,
   "metadata": {},
   "outputs": [],
   "source": [
    "def EQAKGMetrics(pool, rows, counter, JSONroute, queryURL, csvRoute):\n",
    "    '''\n",
    "    Funcion que dado un JSON con preguntas y respuestas (asumimos que las preguntas están en la clave 'question' del JSON, y las respuestas en 'verbalized_answers'), \n",
    "    una url a través de la cual realizar consultas y un csv donde guardar los resultados, hace una serie de metricas:\n",
    "    - Realiza las preguntas del JSON dado\n",
    "    - Lo compara con la respuesta esperada y obtiene varias metricas de rendimiento (Distancia de Levenshtein, BLEU, EM,...)\n",
    "    - Escribe en el CSV la pregunta, la respuesta esperada, la respuesta obtenida y estas metricas\n",
    "    '''\n",
    "    VQuandaData = jsonToDict(JSONroute)\n",
    "\n",
    "    #Escribimos el Header\n",
    "    with open(csvRoute,'w', newline='', encoding=\"utf-8\") as f:\n",
    "\n",
    "        csvwriter = csv.writer(f,delimiter=';', quotechar='\"', quoting=csv.QUOTE_ALL)\n",
    "        global header\n",
    "        csvwriter.writerow(header)\n",
    "        f.close()\n",
    "        \n",
    "    for i in VQuandaData:\n",
    "        #Paraleliza con metodos asincronos\n",
    "        pool.apply_async(evaluateQuestion, (csvRoute,i,rows,counter,queryURL))\n",
    "\n",
    "    pool.close()\n",
    "    pool.join()\n",
    "\n",
    "    #Escribimos lo que quede\n",
    "    with open(csvRoute, 'a', newline='', encoding=\"utf-8\") as f:\n",
    "        (pd.DataFrame.from_records(rows, columns=header)).to_csv(f,header=False, sep=';', quoting=csv.QUOTE_ALL)\n",
    "        f.close()"
   ]
  },
  {
   "cell_type": "markdown",
   "metadata": {},
   "source": [
    "#Ejecucion script"
   ]
  },
  {
   "cell_type": "code",
   "execution_count": null,
   "metadata": {},
   "outputs": [],
   "source": [
    "#Creamos el array donde guardaremos las columnas y el contador como variables globales para que sean accesibles por los multiprocesos\n",
    "rows = None\n",
    "counter = None\n",
    "header = [\"Question\", \"Answer\", \"Response\", \"Levenshtein Distance\",\"BLEU Score\",\"EM Score\",\"Query Time\",\"Text Length\",\"Is Answered\"]\n",
    "\n",
    "if __name__ == '__main__':\n",
    "\n",
    "    with mp.Manager() as manager:\n",
    "\n",
    "        rows = manager.list([])\n",
    "        counter = manager.Value('i', 0)\n",
    "\n",
    "        pool = mp.Pool(processes=6, initargs = (counter,rows,))\n",
    "\n",
    "        queryUrl = \"http://localhost:5000/eqakg/dbpedia/en?text=false\"\n",
    "        #queryUrl = \"https://librairy.linkeddata.es/eqakg/dbpedia/en?text=false\" \n",
    "\n",
    "        EQAKGMetrics(pool,rows,counter,\"test.json\",queryUrl,\"results/VQuanda.csv\")"
   ]
  }
 ],
 "metadata": {
  "interpreter": {
   "hash": "ac59ebe37160ed0dfa835113d9b8498d9f09ceb179beaac4002f036b9467c963"
  },
  "kernelspec": {
   "display_name": "Python 3.9.7 64-bit",
   "name": "python3"
  },
  "language_info": {
   "codemirror_mode": {
    "name": "ipython",
    "version": 3
   },
   "file_extension": ".py",
   "mimetype": "text/x-python",
   "name": "python",
   "nbconvert_exporter": "python",
   "pygments_lexer": "ipython3",
   "version": "3.9.7"
  },
  "orig_nbformat": 4
 },
 "nbformat": 4,
 "nbformat_minor": 2
}
